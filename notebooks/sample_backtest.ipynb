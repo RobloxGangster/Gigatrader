{
 "cells": [
  {
   "cell_type": "markdown",
   "metadata": {},
   "source": [
    "# Sample Backtest\n",
    "Demonstrates loading configuration, running the event-driven backtest, and summarising results."
   ]
  },
  {
   "cell_type": "code",
   "execution_count": null,
   "metadata": {},
   "outputs": [],
   "source": [
    "from pathlib import Path\n",
    "from backtest.engine import BacktestConfig, BacktestEngine\n",
    "from strategies.equities_momentum import EquitiesMomentumStrategy\n",
    "\n",
    "bars = [\"sample\"]  # TODO: replace with fetched Alpaca bars\n",
    "engine = BacktestEngine([EquitiesMomentumStrategy([\"AAPL\"])], BacktestConfig())\n",
    "result = await engine.run(bars)  # type: ignore[misc]\n",
    "result"
   ]
  }
 ],
 "metadata": {
  "kernelspec": {
   "display_name": "Python 3",
   "language": "python",
   "name": "python3"
  },
  "language_info": {
   "name": "python",
   "version": "3.11"
  }
 },
 "nbformat": 4,
 "nbformat_minor": 5
}
